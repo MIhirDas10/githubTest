{
  "cells": [
    {
      "cell_type": "markdown",
      "metadata": {
        "id": "view-in-github",
        "colab_type": "text"
      },
      "source": [
        "<a href=\"https://colab.research.google.com/github/MIhirDas10/githubTest/blob/master/CSE111_LAB04.ipynb\" target=\"_parent\"><img src=\"https://colab.research.google.com/assets/colab-badge.svg\" alt=\"Open In Colab\"/></a>"
      ]
    },
    {
      "cell_type": "markdown",
      "metadata": {
        "id": "tTITG5_TRRcR"
      },
      "source": [
        "# **Task-1**"
      ]
    },
    {
      "cell_type": "code",
      "execution_count": null,
      "metadata": {
        "colab": {
          "base_uri": "https://localhost:8080/"
        },
        "id": "pbFO2bg2RUIy",
        "outputId": "39e9948b-b6ef-481d-a8fb-2af05cd33772"
      },
      "outputs": [
        {
          "name": "stdout",
          "output_type": "stream",
          "text": [
            "Hello!\n",
            "Sam ,you purchased 3 item(s):\n",
            "chips\n",
            "chocolate\n",
            "orange juice\n",
            "-----------------------------\n",
            "Hello David !\n",
            "David ,you purchased 1 item(s):\n",
            "orange juice\n"
          ]
        }
      ],
      "source": [
        "class Customer:\n",
        "    def __init__(self,name):\n",
        "        self.name=name\n",
        "    def greet(self,name=None):\n",
        "        if name!=None:\n",
        "            print('Hello',name,'!')\n",
        "        else:\n",
        "            print('Hello!')\n",
        "    def purchase(self,*args):\n",
        "        print(self.name,',you purchased',len(args),'item(s):')\n",
        "        for i in range(len(args)):\n",
        "            print(args[i])  \n",
        "# -----------------------------------------------------------------\n",
        "customer_1 = Customer(\"Sam\")\n",
        "customer_1.greet()\n",
        "customer_1.purchase(\"chips\", \"chocolate\", \"orange juice\")\n",
        "print(\"-----------------------------\")\n",
        "customer_2 = Customer(\"David\")\n",
        "customer_2.greet(\"David\")\n",
        "customer_2.purchase(\"orange juice\")\n",
        "# -----------------------------------------------------------------"
      ]
    },
    {
      "cell_type": "markdown",
      "metadata": {
        "id": "5LHepIhkNI3e"
      },
      "source": [
        "# **Task-2**"
      ]
    },
    {
      "cell_type": "code",
      "execution_count": null,
      "metadata": {
        "colab": {
          "base_uri": "https://localhost:8080/"
        },
        "id": "nagq2URbNK9f",
        "outputId": "02117ffe-0127-4f06-f312-4f643836bf9d"
      },
      "outputs": [
        {
          "name": "stdout",
          "output_type": "stream",
          "text": [
            "Kunfu is a Male Panda Bear who is 5 years old\n",
            "Pan Pan is a Female Panda Bear who is 3 years old\n",
            "Ming Ming is a Female Panda Bear who is 8 years old\n",
            "===========================\n",
            "Pan Pan'sleeps 10 hours daily and should have Broccoli Chicken\n",
            "Kunfu'sleeps 4 hours daily and should have Mixed Veggies\n",
            "Ming Ming's duration is unknown thus should have only bamboo leaves\n"
          ]
        }
      ],
      "source": [
        "# ====================== FROM HERE ============================\n",
        "class Panda:\n",
        "    def __init__(self,name,gender,age):\n",
        "        self.name=name\n",
        "        self.gender=gender\n",
        "        self.age=age\n",
        "    def sleep(self,hour=None):\n",
        "        if hour==None:\n",
        "            return f\"{self.name}'s duration is unknown thus should have only bamboo leaves\"\n",
        "        elif 3<=hour<=5:\n",
        "            return f\"{self.name}'sleeps {hour} hours daily and should have Mixed Veggies\"\n",
        "        elif 6<=hour<=8:\n",
        "            return f\"{self.name}'sleeps {hour} hours daily and should have Eggplant & Tofu\"\n",
        "        elif 9<=hour<=10:\n",
        "            return f\"{self.name}'sleeps {hour} hours daily and should have Broccoli Chicken\"\n",
        "# ====================== FROM HERE ============================        \n",
        "panda1 = Panda(\"Kunfu\", \"Male\", 5)\n",
        "panda2 = Panda(\"Pan Pan\", \"Female\",3)\n",
        "panda3 = Panda(\"Ming Ming\", \"Female\",8)\n",
        "print(\"{} is a {} Panda Bear who is {} years old\".format(panda1.name,panda1.gender,panda1.age))\n",
        "print(\"{} is a {} Panda Bear who is {} years old\".format(panda2.name,panda2.gender,panda2.age))\n",
        "print(\"{} is a {} Panda Bear who is {} years old\".format(panda3.name,panda3.gender,panda3.age))\n",
        "print(\"===========================\")\n",
        "print(panda2.sleep(10))\n",
        "print(panda1.sleep(4))\n",
        "print(panda3.sleep())"
      ]
    },
    {
      "cell_type": "markdown",
      "metadata": {
        "id": "g2iIm_vDOWzB"
      },
      "source": [
        "# **Task-3**"
      ]
    },
    {
      "cell_type": "code",
      "execution_count": null,
      "metadata": {
        "colab": {
          "base_uri": "https://localhost:8080/"
        },
        "id": "BAOADp9yGlRY",
        "outputId": "36b2540b-3067-40f7-90b7-84d9f1030f77"
      },
      "outputs": [
        {
          "name": "stdout",
          "output_type": "stream",
          "text": [
            "White cat is sitting\n",
            "Black cat is sitting\n",
            "Brown cat is jumping\n",
            "Red cat is purring\n",
            "Blue cat is sitting\n",
            "Purple cat is jumping\n"
          ]
        }
      ],
      "source": [
        "class Cat:\n",
        "  def __init__(self, color=None, doing=None):\n",
        "    self.color = color \n",
        "    self.doing = doing\n",
        "  def printCat(self):\n",
        "    if self.color==None and self.doing==None:\n",
        "      print(\"White cat is sitting\")\n",
        "    elif self.color!=None and self.doing==None:\n",
        "      print(self.color,\"cat is sitting\")\n",
        "    elif self.color!=None and self.doing!=None:\n",
        "      print(self.color,\"cat is\",self.doing)\n",
        "  def changeColor(self, new_col):\n",
        "    self.color=new_col\n",
        "# -----------------------------------------------------------------\n",
        "c1 = Cat()\n",
        "c2 = Cat(\"Black\")\n",
        "c3 = Cat(\"Brown\", \"jumping\")\n",
        "c4 = Cat(\"Red\", \"purring\")\n",
        "c1.printCat()\n",
        "c2.printCat()\n",
        "c3.printCat()\n",
        "c4.printCat()\n",
        "c1.changeColor(\"Blue\")\n",
        "c3.changeColor(\"Purple\")\n",
        "c1.printCat()\n",
        "c3.printCat()\n",
        "# -------------------------------------------------------------------"
      ]
    },
    {
      "cell_type": "markdown",
      "metadata": {
        "id": "D-R0SEDtVy8F"
      },
      "source": [
        "# **Task-4**"
      ]
    },
    {
      "cell_type": "code",
      "execution_count": null,
      "metadata": {
        "colab": {
          "base_uri": "https://localhost:8080/"
        },
        "id": "lEL5zapPY01N",
        "outputId": "823335f1-d50c-41a7-ae7e-955d2ed2013a"
      },
      "outputs": [
        {
          "name": "stdout",
          "output_type": "stream",
          "text": [
            "--------------------------------\n",
            "Hello default student\n",
            "Your average quiz score is 3.3333333333333335\n",
            "--------------------------------\n",
            "Hello Harry\n",
            "Your average quiz score is 6.0\n",
            "--------------------------------\n",
            "Hello Hermione\n",
            "Your average quiz score is 9.666666666666666\n"
          ]
        }
      ],
      "source": [
        "class Student:\n",
        "  def __init__(self, name=None):\n",
        "    self.name = name\n",
        "  def quizcalc(self, *args):\n",
        "    if len(args)==1:\n",
        "      self.avg=args[0]/3\n",
        "    elif len(args)==2:\n",
        "      self.avg=(args[0]+args[1])/3\n",
        "    elif len(args)==3:\n",
        "      self.avg=(args[0]+args[1]+args[2])/3\n",
        "  def printdetail(self):\n",
        "    if self.name==None:\n",
        "      print(\"Hello default student\")\n",
        "    else:\n",
        "      print(f\"Hello {self.name}\")\n",
        "    print(f\"Your average quiz score is {self.avg}\")\n",
        "# ---------------------------------------------------\n",
        "s1 = Student()\n",
        "s1.quizcalc(10)\n",
        "print('--------------------------------')\n",
        "s1.printdetail()\n",
        "s2 = Student('Harry')\n",
        "s2.quizcalc(10,8)\n",
        "print('--------------------------------')\n",
        "s2.printdetail()\n",
        "s3 = Student('Hermione')\n",
        "s3.quizcalc(10,9,10)\n",
        "print('--------------------------------')\n",
        "s3.printdetail()\n",
        "# ---------------------------------------------------"
      ]
    },
    {
      "cell_type": "markdown",
      "metadata": {
        "id": "bIP9ZDIVJ4Sv"
      },
      "source": [
        "# **Task-5**"
      ]
    },
    {
      "cell_type": "code",
      "execution_count": null,
      "metadata": {
        "colab": {
          "base_uri": "https://localhost:8080/"
        },
        "id": "N71vqFSaJ9VV",
        "outputId": "7d8a9f9b-63a0-4591-8df1-af20bc2e883f"
      },
      "outputs": [
        {
          "name": "stdout",
          "output_type": "stream",
          "text": [
            "Name: Harry Potter\n",
            "ID: 123\n",
            "Daily effort: 3 hour(s)\n",
            "Suggestion: Keep up the good work!\n",
            "========================\n",
            "Name: John Wick\n",
            "ID: 456\n",
            "Department: BBA\n",
            "Daily effort: 2 hour(s)\n",
            "Suggestion: Should give more effort!\n",
            "========================\n",
            "Name: Naruto Uzumaki\n",
            "ID: 777\n",
            "Department: Ninja\n",
            "Daily effort: 6 hour(s)\n",
            "Suggestion: Excellent! Now motivate others.\n"
          ]
        }
      ],
      "source": [
        "class Student:\n",
        "  def __init__(self, name, id, dept=None):\n",
        "    self.name = name\n",
        "    self.id = id\n",
        "    self.dept = dept\n",
        "    print(f\"Name: {name}\")\n",
        "    print(f\"ID: {id}\")\n",
        "    if dept != None:\n",
        "      print(f\"Department: {dept}\")\n",
        "  def dailyEffort(self, hour):\n",
        "    self.hour = hour \n",
        "    print(f\"Daily effort: {hour} hour(s)\")\n",
        "  def printDetails(self):\n",
        "    if self.hour <= 2:\n",
        "      print('Suggestion: Should give more effort!')\n",
        "    elif self.hour <= 4:\n",
        "      print('Suggestion: Keep up the good work!')\n",
        "    else:\n",
        "      print('Suggestion: Excellent! Now motivate others.')\n",
        "# =========================================================\n",
        "harry = Student('Harry Potter', 123)\n",
        "harry.dailyEffort(3)\n",
        "harry.printDetails()\n",
        "print('========================')\n",
        "john = Student(\"John Wick\", 456, \"BBA\")\n",
        "john.dailyEffort(2)\n",
        "john.printDetails()\n",
        "print('========================')\n",
        "naruto = Student(\"Naruto Uzumaki\", 777, \"Ninja\")\n",
        "naruto.dailyEffort(6)\n",
        "naruto.printDetails()\n",
        "# ========================================================="
      ]
    },
    {
      "cell_type": "markdown",
      "metadata": {
        "id": "ZUwRm4uqdpYN"
      },
      "source": [
        "# **Task-6**"
      ]
    },
    {
      "cell_type": "code",
      "execution_count": null,
      "metadata": {
        "colab": {
          "base_uri": "https://localhost:8080/"
        },
        "id": "QnQVqNeTdr20",
        "outputId": "a69ccc3c-dca3-4bff-99c0-ecd66a6fe24a"
      },
      "outputs": [
        {
          "name": "stdout",
          "output_type": "stream",
          "text": [
            "=========================\n",
            "Symptoms: Headache\n",
            "=========================\n",
            "Symptoms: Vomiting, Coughing\n",
            "=========================\n",
            "Symptoms: Fever, Headache, Coughing\n"
          ]
        }
      ],
      "source": [
        "class Patient:\n",
        "  def __init__(self, name, age):\n",
        "    self.name = name\n",
        "    self.age = age\n",
        "  def add_Symptom(self, *args):\n",
        "    self.string=\"\"\n",
        "    for i in range(len(args)):\n",
        "      self.string += args[i]+ \", \"\n",
        "  def printPatientDetail(self):\n",
        "    print('Symptoms:', self.string[:-2:])\n",
        "# ----------------------------------------------------------------\n",
        "p1 = Patient('Thomas', 23)\n",
        "p1.add_Symptom('Headache')\n",
        "p2 = Patient('Carol', 20)\n",
        "p2.add_Symptom('Vomiting', 'Coughing')\n",
        "p3 = Patient('Mike', 25)\n",
        "p3.add_Symptom('Fever', 'Headache', 'Coughing')\n",
        "print(\"=========================\")\n",
        "p1.printPatientDetail()\n",
        "print(\"=========================\")\n",
        "p2.printPatientDetail()\n",
        "print(\"=========================\")\n",
        "p3.printPatientDetail()\n",
        "# ----------------------------------------------------------------"
      ]
    },
    {
      "cell_type": "markdown",
      "metadata": {
        "id": "mngouIX9hsqK"
      },
      "source": [
        "# **Task-7**"
      ]
    },
    {
      "cell_type": "code",
      "execution_count": null,
      "metadata": {
        "colab": {
          "base_uri": "https://localhost:8080/"
        },
        "id": "5WPNG9XRQTm4",
        "outputId": "912835d6-c059-4153-a728-fad8d180a314"
      },
      "outputs": [
        {
          "name": "stdout",
          "output_type": "stream",
          "text": [
            "5..4..3..2..1.. Play !!!\n",
            "=========================\n",
            "Batting Team: Rangpur Riders\n",
            "Bowling Team: Cumilla Victorians\n",
            "Total Run: 10 Wicket: 0 Total Over: 1\n",
            "=========================\n",
            "WARNING! Can not add 5 over/s (5 over match)\n",
            "=========================\n",
            "Batting Team: Rangpur Riders\n",
            "Bowling Team: Cumilla Victorians\n",
            "Total Run: 10 Wicket: 1 Total Over: 1\n"
          ]
        }
      ],
      "source": [
        "class Match:\n",
        "  def __init__(self, str1):\n",
        "    list1 = str1.split(\"-\")\n",
        "    self.batting_team = list1[0]\n",
        "    self.bowling_team = list1[1]\n",
        "    self.run = 0\n",
        "    self.over = 0\n",
        "    self.wicket = 0\n",
        "    print(\"5..4..3..2..1.. Play !!!\")\n",
        "\n",
        "  def add_run(self, run):\n",
        "    self.run += run\n",
        "\n",
        "  def add_over(self, over):\n",
        "    self.over+=over\n",
        "    if self.over>5:\n",
        "      print(\"WARNING! Can not add\", over, \"over/s (5 over match)\")\n",
        "      self.over-=over\n",
        "  def add_wicket(self, wicket):\n",
        "    self.wicket += wicket\n",
        "\n",
        "  def print_scoreboard(self):\n",
        "    return (f\"Batting Team: {self.batting_team}\\nBowling Team: {self.bowling_team}\\nTotal Run: {self.run} Wicket: {self.wicket} Total Over: {self.over}\")\n",
        "\n",
        "# ---------------------------------------------------------------------------\n",
        "match1 = Match(\"Rangpur Riders-Cumilla Victorians\")\n",
        "print(\"=========================\")\n",
        "match1.add_run(4)\n",
        "match1.add_run(6)\n",
        "match1.add_over(1)\n",
        "print(match1.print_scoreboard())\n",
        "print(\"=========================\")\n",
        "match1.add_over(5)\n",
        "print(\"=========================\")\n",
        "match1.add_wicket(1)\n",
        "print(match1.print_scoreboard())\n",
        "\n"
      ]
    },
    {
      "cell_type": "markdown",
      "metadata": {
        "id": "NLO0p1uRQuoJ"
      },
      "source": [
        "# **Task-8**"
      ]
    },
    {
      "cell_type": "code",
      "execution_count": null,
      "metadata": {
        "colab": {
          "base_uri": "https://localhost:8080/"
        },
        "id": "wtzhKkxmgVHZ",
        "outputId": "bd9dad93-28a6-4937-d66c-0a9da02cbeb8"
      },
      "outputs": [
        {
          "name": "stdout",
          "output_type": "stream",
          "text": [
            "**********************\n",
            "Customer Name: No name set\n",
            "Product Weight: 0\n",
            "Total Fee: 0\n",
            "**********************\n",
            "Customer Name: Bob The Builder\n",
            "Product Weight: 0\n",
            "Total Fee: 0\n",
            "----------------------------\n",
            "Customer Name: Bob The Builder\n",
            "Product Weight: 15\n",
            "Total Fee: 350\n",
            "**********************\n",
            "Customer Name: Dora The Explorer\n",
            "Product Weight: 10\n",
            "Total Fee: 300\n"
          ]
        }
      ],
      "source": [
        "class ParcelKoro:\n",
        "    def __init__(self, customer_name=\"No name set\", product_weight=0):\n",
        "        self.customer_name = customer_name\n",
        "        self.product_weight = product_weight\n",
        "        self.location = None\n",
        "\n",
        "    def calculateFee(self, delivery_location=None):\n",
        "        if delivery_location is None:\n",
        "            location_charge = 50\n",
        "        else:\n",
        "            location_charge = 100\n",
        "            self.location = delivery_location\n",
        "\n",
        "        if self.product_weight == 0:\n",
        "            total_fee = 0\n",
        "        else:\n",
        "            total_weight = self.product_weight\n",
        "            total_fee = (total_weight * 20) + location_charge\n",
        "\n",
        "        self.total_fee = total_fee\n",
        "\n",
        "    def printDetails(self):\n",
        "        print(f\"Customer Name: {self.customer_name}\")\n",
        "        print(f\"Product Weight: {self.product_weight}\")\n",
        "        print(f\"Total Fee: {self.total_fee}\")\n",
        "        \n",
        "# =====================================================\n",
        "print(\"**********************\")\n",
        "p1 = ParcelKoro()\n",
        "p1.calculateFee()\n",
        "p1.printDetails()\n",
        "print(\"**********************\")\n",
        "p2 = ParcelKoro('Bob The Builder')\n",
        "p2.calculateFee()\n",
        "p2.printDetails()\n",
        "print(\"----------------------------\")\n",
        "p2.product_weight = 15\n",
        "p2.calculateFee()\n",
        "p2.printDetails()\n",
        "print(\"**********************\")\n",
        "p3 = ParcelKoro('Dora The Explorer', 10)\n",
        "p3.calculateFee('Dhanmondi')\n",
        "p3.printDetails()\n",
        "# ====================================================="
      ]
    },
    {
      "cell_type": "markdown",
      "metadata": {
        "id": "XJR-tAE1gg-l"
      },
      "source": [
        "# **Task-9**"
      ]
    },
    {
      "cell_type": "code",
      "execution_count": null,
      "metadata": {
        "colab": {
          "base_uri": "https://localhost:8080/"
        },
        "id": "fLGa_oTvgvDE",
        "outputId": "33e21598-47af-49de-b583-0a28699b4f3a"
      },
      "outputs": [
        {
          "output_type": "stream",
          "name": "stdout",
          "text": [
            "Name: New Batsman\n",
            "Runs scored: 6101, Balls faced: 7380\n",
            "============================\n",
            "Name: Liton Das\n",
            "Runs scored: 678, Balls faced: 773\n",
            "----------------------------\n",
            "87.71021992238033\n",
            "============================\n",
            "Name: Shakib Al Hasan\n",
            "Runs scored: 6101, Balls faced: 7380\n",
            "----------------------------\n",
            "82.66937669376694\n"
          ]
        }
      ],
      "source": [
        "class Batsman:\n",
        "  def __init__(self,*args):\n",
        "    if len(args)==2:\n",
        "      self.run=args[0]\n",
        "      self.ball=args[1]\n",
        "      self.name=\"New Batsman\"\n",
        "    else:\n",
        "      self.name=args[0]\n",
        "      self.run=args[1]\n",
        "      self.ball=args[2]\n",
        "  def setName(self, y):\n",
        "    self.name = y\n",
        "  def printCareerStatistics(self):\n",
        "    print(f\"Name: {self.name}\")\n",
        "    print(f\"Runs scored: {self.run}, Balls faced: {self.ball}\")\n",
        "  def battingStrikeRate(self):\n",
        "    return (((self.run/self.ball)*100))\n",
        "# =======================================================================\n",
        "b1 = Batsman(6101, 7380)\n",
        "b1.printCareerStatistics()\n",
        "print(\"============================\")\n",
        "b2 = Batsman(\"Liton Das\", 678, 773)\n",
        "b2.printCareerStatistics()\n",
        "print(\"----------------------------\")\n",
        "print(b2.battingStrikeRate())\n",
        "print(\"============================\")\n",
        "b1.setName(\"Shakib Al Hasan\")\n",
        "b1.printCareerStatistics()\n",
        "print(\"----------------------------\")\n",
        "print(b1.battingStrikeRate())\n",
        "# ----------------------------------------------------------------"
      ]
    },
    {
      "cell_type": "markdown",
      "metadata": {
        "id": "24PD9LM_KUS_"
      },
      "source": [
        "# **Task-10**"
      ]
    },
    {
      "cell_type": "code",
      "execution_count": null,
      "metadata": {
        "colab": {
          "base_uri": "https://localhost:8080/"
        },
        "id": "ch8mr0BzKV0g",
        "outputId": "a96fec68-bc29-4a21-bc15-d0a3e6e3dc25"
      },
      "outputs": [
        {
          "name": "stdout",
          "output_type": "stream",
          "text": [
            "===================\n",
            "Name: Manchester United\n",
            "Song: Glory Glory Man United\n",
            "Total No of title: 0\n",
            "##################\n",
            "Name: Manchester United\n",
            "Song: Glory Glory Man United\n",
            "Total No of title: 1\n",
            "===================\n",
            "Name: Chelsea\n",
            "Song: No Slogan\n",
            "Total No of title: 0\n",
            "Name: Chelsea\n",
            "Song: Keep the blue flag flying high\n",
            "Total No of title: 0\n"
          ]
        }
      ],
      "source": [
        "class EPL_Team:\n",
        "  def __init__(self, team1, song=\"No Slogan\", title=0):\n",
        "    self.team1 = team1\n",
        "    self.song = song\n",
        "    self.title = title\n",
        "\n",
        "  def showClubInfo(self):\n",
        "    return f\"Name: {self.team1}\\nSong: {self.song}\\nTotal No of title: {self.title}\"\n",
        "\n",
        "  def increaseTitle(self):\n",
        "    self.title += 1\n",
        "  def changeSong(self,change_song):\n",
        "    self.song = change_song\n",
        "# ======================================================================\n",
        "manu = EPL_Team('Manchester United', 'Glory Glory Man United')\n",
        "chelsea = EPL_Team('Chelsea')\n",
        "print('===================')\n",
        "print(manu.showClubInfo())\n",
        "print('##################')\n",
        "manu.increaseTitle()\n",
        "print(manu.showClubInfo())\n",
        "print('===================')\n",
        "print(chelsea.showClubInfo())\n",
        "chelsea.changeSong('Keep the blue flag flying high')\n",
        "print(chelsea.showClubInfo())\n",
        "# ======================================================================"
      ]
    },
    {
      "cell_type": "markdown",
      "metadata": {
        "id": "Lzvx6EIcnsFu"
      },
      "source": [
        "# **Task-11**"
      ]
    },
    {
      "cell_type": "code",
      "execution_count": null,
      "metadata": {
        "colab": {
          "base_uri": "https://localhost:8080/"
        },
        "id": "vcjJVLhsnuUF",
        "outputId": "2ae5b19f-805e-4006-d475-1ed2a53dbb5b"
      },
      "outputs": [
        {
          "name": "stdout",
          "output_type": "stream",
          "text": [
            "Author Name: Humayun Ahmed\n",
            "--------\n",
            "List of Books:\n",
            "Deyal\n",
            "Megher Opor Bari\n",
            "===================\n",
            "Default\n",
            "===================\n",
            "Author Name: Mario Puzo\n",
            "--------\n",
            "List of Books:\n",
            "The Godfather\n",
            "Omerta\n",
            "The Sicilian\n",
            "===================\n",
            "Author Name: Paolo Coelho\n",
            "--------\n",
            "List of Books:\n",
            "The Alchemist\n",
            "The Fifth Mountain\n"
          ]
        }
      ],
      "source": [
        "class Author:\n",
        "  def __init__(self, name=\"Default\", *books):\n",
        "    self.name = name\n",
        "    self.books = list(books)\n",
        "\n",
        "  def addBooks(self, *books):\n",
        "    self.books.extend(books)\n",
        "  \n",
        "  def changeName(self, name):\n",
        "        self.name = name\n",
        "        \n",
        "  \n",
        "  def printDetails(self):\n",
        "    print(f\"Author Name: {self.name}\")\n",
        "    print(\"--------\")\n",
        "    print(\"List of Books:\")\n",
        "    \n",
        "    for i in self.books:\n",
        "      print(i)\n",
        "    \n",
        "# =======================================================================\n",
        "auth1 = Author('Humayun Ahmed')\n",
        "auth1.addBooks('Deyal', 'Megher Opor Bari')\n",
        "auth1.printDetails()\n",
        "print('===================')\n",
        "auth2 = Author()\n",
        "print(auth2.name)\n",
        "auth2.changeName('Mario Puzo')\n",
        "auth2.addBooks('The Godfather', 'Omerta', 'The Sicilian')\n",
        "print('===================')\n",
        "auth2.printDetails()\n",
        "print('===================')\n",
        "auth3 = Author('Paolo Coelho', 'The Alchemist', 'The Fifth Mountain')\n",
        "auth3.printDetails()\n",
        "# ======================================================================="
      ]
    },
    {
      "cell_type": "markdown",
      "metadata": {
        "id": "uH4G5mQIhP_x"
      },
      "source": [
        "# **Task-12**"
      ]
    },
    {
      "cell_type": "code",
      "execution_count": null,
      "metadata": {
        "colab": {
          "base_uri": "https://localhost:8080/"
        },
        "id": "dnhICcjzwuaW",
        "outputId": "8d01c873-b715-4bda-c1ba-ed105b019b28"
      },
      "outputs": [
        {
          "name": "stdout",
          "output_type": "stream",
          "text": [
            "-------------------------------\n",
            "Dear Walker! Welcome to TaxiLagbe.\n",
            "Dear Wood! Welcome to TaxiLagbe.\n",
            "Dear Matt! Welcome to TaxiLagbe.\n",
            "Dear Wilson! Welcome to TaxiLagbe.\n",
            "-------------------------------\n",
            "Trip info for Taxi number: 1010-01\n",
            "This taxi can cover only Dhaka area.\n",
            "Total passengers: 4\n",
            "Passenger lists: \n",
            "Walker, Wood, Matt, Wilson\n",
            "Total collected fare: 505 Taka\n",
            "-------------------------------\n",
            "Taxi Full! No more passengers can be added.\n",
            "-------------------------------\n",
            "Trip info for Taxi number: 1010-01\n",
            "This taxi can cover only Dhaka area.\n",
            "Total passengers: 4\n",
            "Passenger lists: \n",
            "Walker, Wood, Matt, Wilson\n",
            "Total collected fare: 505 Taka\n",
            "-------------------------------\n",
            "Dear Ronald! Welcome to TaxiLagbe.\n",
            "Dear Parker! Welcome to TaxiLagbe.\n",
            "-------------------------------\n",
            "Trip info for Taxi number: 1010-02\n",
            "This taxi can cover only Khulna area.\n",
            "Total passengers: 2\n",
            "Passenger lists: \n",
            "Ronald, Parker\n",
            "Total collected fare: 330 Taka\n"
          ]
        }
      ],
      "source": [
        "class TaxiLagbe:\n",
        "  def __init__(self, num, area):\n",
        "    self.num=num;self.area=area\n",
        "    self.fare=0;self.pas=0\n",
        "    self.pasName=[]\n",
        "  def addPassenger(self, *args):\n",
        "    for i in args:\n",
        "      if(self.pas<4):\n",
        "        x,y=i.split('_')\n",
        "        self.pasName.append(x)\n",
        "        self.fare+=int(y)\n",
        "        print(f\"Dear {x}! Welcome to TaxiLagbe.\")\n",
        "        self.pas+=1\n",
        "      else:\n",
        "        print(\"Taxi Full! No more passengers can be added.\")\n",
        "  def printDetails(self):\n",
        "    print(f\"Trip info for Taxi number: {self.num}\")\n",
        "    print(f\"This taxi can cover only {self.area} area.\")\n",
        "    print(f\"Total passengers: {self.pas}\")\n",
        "    print(f\"Passenger lists: \")\n",
        "    sum=\"\"\n",
        "    for i in self.pasName:\n",
        "      sum+=i+\", \"\n",
        "    print(sum[:-2:])\n",
        "    print(f\"Total collected fare: {self.fare} Taka\")\n",
        "\n",
        "taxi1 = TaxiLagbe('1010-01', 'Dhaka')\n",
        "print('-------------------------------')\n",
        "taxi1.addPassenger('Walker_100', 'Wood_200')\n",
        "taxi1.addPassenger('Matt_100')\n",
        "taxi1.addPassenger('Wilson_105')\n",
        "print('-------------------------------')\n",
        "taxi1.printDetails()\n",
        "print('-------------------------------')\n",
        "taxi1.addPassenger('Karen_200')\n",
        "print('-------------------------------')\n",
        "taxi1.printDetails()\n",
        "print('-------------------------------')\n",
        "taxi2 = TaxiLagbe('1010-02', 'Khulna')\n",
        "taxi2.addPassenger('Ronald_115')\n",
        "taxi2.addPassenger('Parker_215')\n",
        "print('-------------------------------')\n",
        "taxi2.printDetails()\n"
      ]
    },
    {
      "cell_type": "markdown",
      "metadata": {
        "id": "xe0Un4u3TTAJ"
      },
      "source": [
        "# **Task-13**"
      ]
    },
    {
      "cell_type": "code",
      "execution_count": null,
      "metadata": {
        "colab": {
          "base_uri": "https://localhost:8080/"
        },
        "id": "jeYVw2RsScHt",
        "outputId": "94656a0c-5e3d-4627-e187-7e74e5e591d8"
      },
      "outputs": [
        {
          "name": "stdout",
          "output_type": "stream",
          "text": [
            "Default Account\n",
            "0.0\n",
            "------------------------\n",
            "Oliver\n",
            "10000.0\n",
            "------------------------\n",
            "Liam\n",
            "0.0\n",
            "------------------------\n",
            "Noah\n",
            "400\n",
            "------------------------\n",
            "Sorry, Withdraw unsuccessful! The account balance after deducting withdraw amount is equal to or less than minimum.\n",
            "------------------------\n",
            "Sorry, Withdraw unsuccessful! The account balance after deducting withdraw amount is equal to or less than minimum.\n",
            "------------------------\n",
            "Withdraw successful! New balance is: 3071.0\n"
          ]
        }
      ],
      "source": [
        "class Account:\n",
        "    def __init__(self, name='Default Account', balance=0.0, minimum_balance=0.0):\n",
        "        self.name = name\n",
        "        self.balance = balance\n",
        "        self.minimum_balance = minimum_balance\n",
        "    \n",
        "\n",
        "    def withdraw(self, amount):\n",
        "      var = self.balance - amount\n",
        "      if var <= 3070.0:\n",
        "        print(\"Sorry, Withdraw unsuccessful! The account balance after deducting withdraw amount is equal to or less than minimum.\")\n",
        "      else:\n",
        "        print(f\"Withdraw successful! New balance is: {var}\")\n",
        "        \n",
        "            \n",
        "    def details(self):\n",
        "        return f\"{self.name}\\n{self.balance}\"\n",
        "# =================================================================\n",
        "a1 = Account()\n",
        "print(a1.details())\n",
        "print(\"------------------------\")\n",
        "a1.name = \"Oliver\"\n",
        "a1.balance = 10000.0\n",
        "print(a1.details())\n",
        "print(\"------------------------\")\n",
        "a2 = Account(\"Liam\")\n",
        "print(a2.details())\n",
        "print(\"------------------------\")\n",
        "a3 = Account(\"Noah\",400)\n",
        "print(a3.details())\n",
        "print(\"------------------------\")\n",
        "a1.withdraw(6930)\n",
        "print(\"------------------------\")\n",
        "a2.withdraw(600)\n",
        "print(\"------------------------\")\n",
        "a1.withdraw(6929)\n",
        "# ================================================================="
      ]
    },
    {
      "cell_type": "markdown",
      "metadata": {
        "id": "ENiwpm3zkBgU"
      },
      "source": [
        "# **Task-14**"
      ]
    },
    {
      "cell_type": "code",
      "execution_count": null,
      "metadata": {
        "colab": {
          "base_uri": "https://localhost:8080/"
        },
        "id": "k6r02X20jDZG",
        "outputId": "b5a28005-40a4-4936-e750-2d72089cc5af"
      },
      "outputs": [
        {
          "output_type": "stream",
          "name": "stdout",
          "text": [
            "Grades for Pietro\n",
            "{'Summer2020': {('CSE230', 'CSE220', 'MAT110'): 4.0}, 'Summer2021': {('CSE250', 'CSE330'): 3.85}}\n",
            "------------------------------------------------------\n",
            "Name: Pietro\n",
            "ID: 10101222\n",
            "Courses taken in Summer2020:\n",
            "CSE230\n",
            "CSE220\n",
            "MAT110\n",
            "GPA: 4.0\n",
            "Courses taken in Summer2021:\n",
            "CSE250\n",
            "CSE330\n",
            "GPA: 3.85\n",
            "------------------------------------------------------\n",
            "Grades for Wanda\n",
            "{'Summer2022': {('CSE111', 'CSE260', 'ENG101'): 3.8}}\n",
            "------------------------------------------------------\n",
            "Name: Wanda\n",
            "ID: 10103332\n",
            "Courses taken in Summer2022:\n",
            "CSE111\n",
            "CSE260\n",
            "ENG101\n",
            "GPA: 3.8\n"
          ]
        }
      ],
      "source": [
        "class StudentDatabase:\n",
        "    def __init__(self, name, ID):\n",
        "        self.name = name\n",
        "        self.id = ID\n",
        "        self.grades = {}\n",
        "        self.cgpa = 0\n",
        "    \n",
        "    def calculateGPA(self, course_cgpa_list, semester):\n",
        "      course_list = []\n",
        "      total_cgpa = 0 \n",
        "      small_dict = {}\n",
        "      \n",
        "      for course in course_cgpa_list: \n",
        "        course_code, cgpa= course.split(\":\") \n",
        "        course_list.append(course_code)\n",
        "        total_cgpa+= float(cgpa)\n",
        "        self.cgcollector = total_cgpa\n",
        "      average = total_cgpa/len(course_list) \n",
        "      small_dict[tuple (course_list)]=round(average, 2)\n",
        "      self.grades[semester]=small_dict\n",
        "      \n",
        "\n",
        "      sum = \"\"\n",
        "      for i in course_list:\n",
        "        sum = sum + i + \"\\n\"\n",
        "        self.collector = sum\n",
        "    \n",
        "    def printDetails(self):\n",
        "        print(f\"Name: {self.name}\")\n",
        "        print(f\"ID: {self.id}\")\n",
        "        for i, j in self.grades.items():\n",
        "            print(f\"Courses taken in {i}:\")\n",
        "            for k,l in j.items():\n",
        "                print(\"\\n\".join(list(k)))\n",
        "            print(f\"GPA: {l}\")\n",
        "\n",
        "s1 = StudentDatabase('Pietro', '10101222')\n",
        "s1.calculateGPA(['CSE230: 4.0', 'CSE220: 4.0', 'MAT110: 4.0'], 'Summer2020')\n",
        "s1.calculateGPA(['CSE250: 3.7', 'CSE330: 4.0'], 'Summer2021')\n",
        "print(f'Grades for {s1.name}\\n{s1.grades}')\n",
        "print('------------------------------------------------------')\n",
        "s1.printDetails()\n",
        "s2 = StudentDatabase('Wanda', '10103332')\n",
        "s2.calculateGPA(['CSE111: 3.7', 'CSE260: 3.7', 'ENG101: 4.0'], 'Summer2022')\n",
        "print('------------------------------------------------------')\n",
        "print(f'Grades for {s2.name}\\n{s2.grades}')\n",
        "print('------------------------------------------------------')\n",
        "s2.printDetails()"
      ]
    }
  ],
  "metadata": {
    "colab": {
      "provenance": [],
      "authorship_tag": "ABX9TyOT9s3ZUqVv2t+I183jXUfw",
      "include_colab_link": true
    },
    "kernelspec": {
      "display_name": "Python 3",
      "name": "python3"
    },
    "language_info": {
      "name": "python"
    }
  },
  "nbformat": 4,
  "nbformat_minor": 0
}