{
  "nbformat": 4,
  "nbformat_minor": 0,
  "metadata": {
    "colab": {
      "provenance": [],
      "authorship_tag": "ABX9TyP69Ts7QGsdDAdO7bxScv2x",
      "include_colab_link": true
    },
    "kernelspec": {
      "name": "python3",
      "display_name": "Python 3"
    },
    "language_info": {
      "name": "python"
    }
  },
  "cells": [
    {
      "cell_type": "markdown",
      "metadata": {
        "id": "view-in-github",
        "colab_type": "text"
      },
      "source": [
        "<a href=\"https://colab.research.google.com/github/MIhirDas10/githubTest/blob/master/CSE111_lab_5.ipynb\" target=\"_parent\"><img src=\"https://colab.research.google.com/assets/colab-badge.svg\" alt=\"Open In Colab\"/></a>"
      ]
    },
    {
      "cell_type": "markdown",
      "source": [
        "# **Task-1**"
      ],
      "metadata": {
        "id": "lJ62WNxYVc1E"
      }
    },
    {
      "cell_type": "code",
      "source": [
        "import math\n",
        "class Circle:\n",
        "  def __init__(self, radius):\n",
        "    self.__radius = radius\n",
        "  def setRadius(self, radius):\n",
        "    self.__radius = radius \n",
        "  def getRadius(self):\n",
        "    return self.__radius\n",
        "  def area(self):\n",
        "    area = math.pi*self.__radius**2\n",
        "    return area\n",
        "# ==============================================================\n",
        "c1 = Circle(4)\n",
        "print(\"First circle radius:\" , c1.getRadius())\n",
        "print(\"First circle area:\" , c1.area())\n",
        "\n",
        "c2 = Circle(5)\n",
        "print(\"Second circle radius:\" , c2.getRadius())\n",
        "print(\"Second circle area:\" , c2.area())\n",
        "# =============================================================="
      ],
      "metadata": {
        "colab": {
          "base_uri": "https://localhost:8080/"
        },
        "id": "pxASCvSmVg20",
        "outputId": "9bd1f626-0ea2-4316-f5b0-452034d4040f"
      },
      "execution_count": null,
      "outputs": [
        {
          "output_type": "stream",
          "name": "stdout",
          "text": [
            "First circle radius: 4\n",
            "First circle area: 50.26548245743669\n",
            "Second circle radius: 5\n",
            "Second circle area: 78.53981633974483\n"
          ]
        }
      ]
    },
    {
      "cell_type": "markdown",
      "source": [
        "# **Task-2**"
      ],
      "metadata": {
        "id": "fodd0YBEcgF0"
      }
    },
    {
      "cell_type": "code",
      "source": [
        "class Triangle:\n",
        "  def __init__(self, base, height):\n",
        "    self.__base = base\n",
        "    self.__height = height\n",
        "  def setBase(self, base):\n",
        "    self.__base = base\n",
        "  def setHeight(self, height):\n",
        "    self.__height = height\n",
        "  def getBase(self):\n",
        "    return self.__base\n",
        "  def getHeight(self):\n",
        "    return self.__height\n",
        "  def area(self):\n",
        "    area = 1/2*(self.__base*self.__height) \n",
        "    return area\n",
        "\n",
        "# =======================================================================\n",
        "t1 = Triangle(10, 5)\n",
        "print(\"First Triangle Base:\" , t1.getBase())\n",
        "print(\"First Triangle Height:\" , t1.getHeight())\n",
        "print(\"First Triangle area:\" ,t1.area())\n",
        "\n",
        "t2 = Triangle(5, 3)\n",
        "print(\"Second Triangle Base:\" , t2.getBase())\n",
        "print(\"Second Triangle Height:\" , t2.getHeight())\n",
        "print(\"Second Triangle area:\" ,t2.area())\n",
        "# ======================================================================="
      ],
      "metadata": {
        "id": "HGN3wlUqchq8",
        "outputId": "ed2d65c9-a362-4d34-ef6e-71438a006feb",
        "colab": {
          "base_uri": "https://localhost:8080/"
        }
      },
      "execution_count": null,
      "outputs": [
        {
          "output_type": "stream",
          "name": "stdout",
          "text": [
            "First Triangle Base: 10\n",
            "First Triangle Height: 5\n",
            "First Triangle area: 25.0\n",
            "Second Triangle Base: 5\n",
            "Second Triangle Height: 3\n",
            "Second Triangle area: 7.5\n"
          ]
        }
      ]
    },
    {
      "cell_type": "markdown",
      "source": [
        "# **Task-3**"
      ],
      "metadata": {
        "id": "ndtvwiy9YsyX"
      }
    },
    {
      "cell_type": "code",
      "source": [
        "class Teacher:\n",
        "  def __init__(self, name, dept):\n",
        "    self.__name = name\n",
        "    self.__dept = dept\n",
        "    self.__courses = []\n",
        "  def addCourse(self, course):\n",
        "    self.__courses.append(course)\n",
        "\n",
        "  def getName(self):\n",
        "    return self.__name\n",
        "  def getDept(self):\n",
        "    return self.__dept\n",
        "  def getCourse(self):\n",
        "    return self.__courses\n",
        "  def printDetail(self):\n",
        "    print(\"====================================\")\n",
        "    print(f\"Name: {self.__name}\\nDepartment: {self.__dept}\")\n",
        "    print(\"List of courses\")\n",
        "    print(\"====================================\")\n",
        "    for i in self.__courses:\n",
        "      print(i.course_name)\n",
        "    print(\"====================================\")\n",
        "class Course:\n",
        "  def __init__(self, course_name):\n",
        "    self.course_name = course_name\n",
        "# ==============================================================\n",
        "t1 = Teacher(\"Saad Abdullah\", \"CSE\")\n",
        "t2 = Teacher(\"Mumit Khan\", \"CSE\")\n",
        "t3 = Teacher(\"Sadia Kazi\", \"CSE\")                          \n",
        "c1 = Course(\"CSE 110 Programming Language I\")                           \n",
        "c2 = Course(\"CSE 111 Programming Language-II\")                           \n",
        "c3 = Course(\"CSE 220 Data Structures\")                           \n",
        "c4 = Course(\"CSE 221 Algorithms\")                           \n",
        "c5 = Course(\"CSE 230 Discrete Mathematics\")                           \n",
        "c6 = Course(\"CSE 310 Object Oriented Programming\")                           \n",
        "c7 = Course(\"CSE 320 Data Communications\")                          \n",
        "c8 = Course(\"CSE 340 Computer Architecture\") \n",
        "t1.addCourse(c1)\n",
        "t1.addCourse(c2)\n",
        "t2.addCourse(c3)\n",
        "t2.addCourse(c4)\n",
        "t2.addCourse(c5)\n",
        "t3.addCourse(c6)\n",
        "t3.addCourse(c7)\n",
        "t3.addCourse(c8)\n",
        "t1.printDetail()\n",
        "t2.printDetail()\n",
        "t3.printDetail()\n",
        "# =============================================================="
      ],
      "metadata": {
        "colab": {
          "base_uri": "https://localhost:8080/"
        },
        "id": "2eQJaLEiYv0c",
        "outputId": "591b1625-5af0-453a-a11b-a8fbf95f881b"
      },
      "execution_count": null,
      "outputs": [
        {
          "output_type": "stream",
          "name": "stdout",
          "text": [
            "====================================\n",
            "Name: Saad Abdullah\n",
            "Department: CSE\n",
            "List of courses\n",
            "====================================\n",
            "CSE 110 Programming Language I\n",
            "CSE 111 Programming Language-II\n",
            "====================================\n",
            "====================================\n",
            "Name: Mumit Khan\n",
            "Department: CSE\n",
            "List of courses\n",
            "====================================\n",
            "CSE 220 Data Structures\n",
            "CSE 221 Algorithms\n",
            "CSE 230 Discrete Mathematics\n",
            "====================================\n",
            "====================================\n",
            "Name: Sadia Kazi\n",
            "Department: CSE\n",
            "List of courses\n",
            "====================================\n",
            "CSE 310 Object Oriented Programming\n",
            "CSE 320 Data Communications\n",
            "CSE 340 Computer Architecture\n",
            "====================================\n"
          ]
        }
      ]
    },
    {
      "cell_type": "markdown",
      "source": [
        "# **Task-4**"
      ],
      "metadata": {
        "id": "EmdyZnWWd_kq"
      }
    },
    {
      "cell_type": "code",
      "source": [
        "class Team:\n",
        "  def __init__(self, countryname=None):\n",
        "    self.__countryname=countryname\n",
        "    self.__lst=[]\n",
        "  def setName(self, country):\n",
        "    self.__countryname = country\n",
        "  def getName(self):\n",
        "    return self.__countryname\n",
        "  def addPlayer(self, player):\n",
        "    self.__player = player\n",
        "    self.__lst.append(player.new_player)\n",
        "  def printDetail(self):\n",
        "    print(\"=====================\")\n",
        "    print(f\"Team: {self.__countryname}\\nList of players:\")\n",
        "    print(self.__lst)\n",
        "    print(\"=====================\") \n",
        "class Player:\n",
        "  def __init__(self, new_player):\n",
        "    self.new_player = new_player\n",
        "# ==============================================================\n",
        "b = Team()\n",
        "b.setName('Bangladesh')\n",
        "mashrafi = Player(\"Mashrafi\")\n",
        "b.addPlayer(mashrafi)\n",
        "tamim = Player(\"Tamim\")\n",
        "b.addPlayer(tamim)\n",
        "b.printDetail()\n",
        "a = Team(\"Australia\")\n",
        "ponting = Player(\"Ponting\")\n",
        "a.addPlayer(ponting)\n",
        "lee = Player(\"Lee\")\n",
        "a.addPlayer(lee)\n",
        "a.printDetail()\n",
        "# =============================================================="
      ],
      "metadata": {
        "colab": {
          "base_uri": "https://localhost:8080/"
        },
        "id": "gmlitXtgeBy5",
        "outputId": "62b35989-ebf2-43f8-a8fe-77339d53d00c"
      },
      "execution_count": null,
      "outputs": [
        {
          "output_type": "stream",
          "name": "stdout",
          "text": [
            "=====================\n",
            "Team: Bangladesh\n",
            "List of players:\n",
            "['Mashrafi', 'Tamim']\n",
            "=====================\n",
            "=====================\n",
            "Team: Australia\n",
            "List of players:\n",
            "['Ponting', 'Lee']\n",
            "=====================\n"
          ]
        }
      ]
    },
    {
      "cell_type": "markdown",
      "source": [
        "# **Task-5**"
      ],
      "metadata": {
        "id": "ZaelK4A2ibJp"
      }
    },
    {
      "cell_type": "code",
      "source": [
        "class Student:\n",
        "  def __init__(self, name, id, dept):\n",
        "    self.name = name\n",
        "    self.id = id\n",
        "    self.dept = dept\n",
        "    self.email = None\n",
        "    self.password = None\n",
        "    self.lst = []\n",
        "    print(\"Student object is created!\")\n",
        "  \n",
        "class Usis:\n",
        "  def __init__(self):\n",
        "    print(\"USIS is ready to use!\")\n",
        "  def login(self, student):\n",
        "    if student.email==None or student.password==None:\n",
        "      print(\"Please login to advise courses!\")\n",
        "    else:\n",
        "      print(\"Login successful!\")\n",
        "  def advising(self, *args):\n",
        "    if len(args)==1:\n",
        "      print(\"You haven't selected any courses.\")\n",
        "    elif len(args)>4:\n",
        "      print(\"You need special approval to take more than 3 courses.\")\n",
        "    else:\n",
        "      args[0].lst = list(args[1::])\n",
        "      print(\"Advising successful!\")\n",
        "  def individualDetails(self, x):\n",
        "    print(f\"Name: {x.name}\\nId: {x.id}\\nDepartment: {x.dept}\")\n",
        "    str1 = \"\"\n",
        "    final = \"\"\n",
        "    for i in x.lst:\n",
        "      str1 += i + \", \"\n",
        "      final = str1[:-2:]\n",
        "    return f\"Advised courses: {final}\"\n",
        "# ==============================================================\n",
        "rakib = Student(\"Rakib\", \"12301455\", \"CSE\")\n",
        "print(\"1***********************\")\n",
        "usis_obj = Usis()\n",
        "print(\"2***********************\")\n",
        "usis_obj.login(rakib)\n",
        "print(\"3***********************\")\n",
        "usis_obj.advising(rakib)\n",
        "print(\"4***********************\")\n",
        "rakib.email = \"rakib@hotmail.com\"\n",
        "rakib.password = \"1234\"\n",
        "print(\"5***********************\")\n",
        "usis_obj.login(rakib)\n",
        "print(\"6***********************\")\n",
        "usis_obj.advising(rakib)\n",
        "print(\"7***********************\")\n",
        "usis_obj.advising(rakib, \"CSE110\", \"PHY111\", \"MAT110\", \"CSE260\")\n",
        "print(\"8***********************\")\n",
        "usis_obj.advising(rakib, \"CSE110\", \"PHY111\", \"MAT110\")\n",
        "print(\"9***********************\")\n",
        "print(usis_obj.individualDetails(rakib))\n",
        "# =============================================================="
      ],
      "metadata": {
        "colab": {
          "base_uri": "https://localhost:8080/"
        },
        "id": "MvwGv96dic_4",
        "outputId": "f2cc8f7f-33d4-4bbc-d019-7242cbbafd4c"
      },
      "execution_count": null,
      "outputs": [
        {
          "output_type": "stream",
          "name": "stdout",
          "text": [
            "Student object is created!\n",
            "1***********************\n",
            "USIS is ready to use!\n",
            "2***********************\n",
            "Please login to advise courses!\n",
            "3***********************\n",
            "You haven't selected any courses.\n",
            "4***********************\n",
            "5***********************\n",
            "Login successful!\n",
            "6***********************\n",
            "You haven't selected any courses.\n",
            "7***********************\n",
            "You need special approval to take more than 3 courses.\n",
            "8***********************\n",
            "Advising successful!\n",
            "9***********************\n",
            "Name: Rakib\n",
            "Id: 12301455\n",
            "Department: CSE\n",
            "Advised courses: CSE110, PHY111, MAT110\n"
          ]
        }
      ]
    },
    {
      "cell_type": "markdown",
      "source": [
        "# **Task-6**"
      ],
      "metadata": {
        "id": "95dSgsr0ULO-"
      }
    },
    {
      "cell_type": "code",
      "source": [
        "class Train:\n",
        "  def __init__(self, name, *stops):\n",
        "    self.name = name\n",
        "    self.start = stops[0]\n",
        "    self.end = stops[-1]\n",
        "    self.stops = list(stops)\n",
        "    self.passengers = []\n",
        "    print(f\"Welcome aboard on {self.name}\")\n",
        "    print(f\"Start: {self.start}\")\n",
        "    print(f\"Destination: {self.end}\")\n",
        "  def addPassenger(self, *obj):\n",
        "    for i in obj:\n",
        "      if i.start == None:\n",
        "        i.start = self.start\n",
        "      if i.end == None:\n",
        "        i.end = self.end\n",
        "      fare = 100 * (self.stops.index(i.end) - self.stops.index(i.start))\n",
        "      self.passengers.append([i.name, i.start, i.end, fare])\n",
        "      print(f\"{i.name} welcome aboard\")\n",
        "  def allPassengerDetails(self):\n",
        "    for i in self.passengers:\n",
        "      print(f\"Name: {i[0]}, Start: {i[1]}, Destination: {i[2]}, Fare: ${i[3]}\")\n",
        "class Passenger:\n",
        "  def __init__(self, name, start = None, end = None):\n",
        "    self.name = name\n",
        "    self.start = start\n",
        "    self.end = end\n",
        "# -----------------------------------------------------------------------------\n",
        "t1 = Train('T1-Express','New York','Manhattan','Brooklyn','Boston')\n",
        "print(\"1========================\")\n",
        "p1 =Passenger(\"Naruto\")\n",
        "t1.addPassenger(p1)\n",
        "p2 = Passenger(\"Sasuke\",\"Manhattan\")\n",
        "p3 = Passenger(\"Hinata\",\"Manhattan\",\"Brooklyn\")\n",
        "print(\"2========================\")\n",
        "t1.addPassenger(p2,p3)\n",
        "print(\"3========================\")\n",
        "t1.allPassengerDetails()\n",
        "print(\"4========================\")\n",
        "t2 = Train('Europe-Express','London','Paris','Brussels','Turkey')\n",
        "print(\"5========================\")\n",
        "p4 =Passenger(\"Max\",\"London\",\"Brussels\")\n",
        "p5 = Passenger(\"Eleven\",\"Paris\")\n",
        "p6 = Passenger(\"Mike\",\"Brussels\")\n",
        "t2.addPassenger(p4,p5,p6)\n",
        "print(\"6========================\")\n",
        "t2.allPassengerDetails()\n",
        "# -----------------------------------------------------------------------------"
      ],
      "metadata": {
        "colab": {
          "base_uri": "https://localhost:8080/"
        },
        "id": "-lC7fiLIkqsd",
        "outputId": "01beb5a7-bf2f-4e99-a79c-92c899365b39"
      },
      "execution_count": null,
      "outputs": [
        {
          "output_type": "stream",
          "name": "stdout",
          "text": [
            "Welcome aboard on T1-Express\n",
            "Start: New York\n",
            "Destination: Boston\n",
            "1========================\n",
            "Naruto welcome aboard\n",
            "2========================\n",
            "Sasuke welcome aboard\n",
            "Hinata welcome aboard\n",
            "3========================\n",
            "Name: Naruto, Start: New York, Destination: Boston, Fare: $300\n",
            "Name: Sasuke, Start: Manhattan, Destination: Boston, Fare: $200\n",
            "Name: Hinata, Start: Manhattan, Destination: Brooklyn, Fare: $100\n",
            "4========================\n",
            "Welcome aboard on Europe-Express\n",
            "Start: London\n",
            "Destination: Turkey\n",
            "5========================\n",
            "Max welcome aboard\n",
            "Eleven welcome aboard\n",
            "Mike welcome aboard\n",
            "6========================\n",
            "Name: Max, Start: London, Destination: Brussels, Fare: $200\n",
            "Name: Eleven, Start: Paris, Destination: Turkey, Fare: $200\n",
            "Name: Mike, Start: Brussels, Destination: Turkey, Fare: $100\n"
          ]
        }
      ]
    },
    {
      "cell_type": "markdown",
      "source": [
        "# **Task-7**"
      ],
      "metadata": {
        "id": "3ZP2Dddwe2av"
      }
    },
    {
      "cell_type": "code",
      "source": [
        "class BracuStudent:\n",
        "  def __init__(self, name, home):\n",
        "    self.name = name\n",
        "    self.home = home\n",
        "    self.bus_pass = False\n",
        "  def get_pass(self):\n",
        "    self.bus_pass = True\n",
        "  def show_details(self):\n",
        "    print(f\"Student Name: {self.name}\")\n",
        "    print(f\"Lives in {self.home}\")\n",
        "    print(f\"Have Bus Pass? {self.bus_pass}\")\n",
        "class BracuBus:\n",
        "  def __init__(self, route, cap = 2):\n",
        "    self.route = route\n",
        "    self.cap = cap\n",
        "    self.passengers = []\n",
        "  def board(self, *st):\n",
        "    if len(st) == 0:\n",
        "      print(\"No passenger!\")\n",
        "    else:\n",
        "      for i in st:\n",
        "        if len(self.passengers) < self.cap:\n",
        "          if i.bus_pass:\n",
        "            if i.home == self.route:\n",
        "              self.passengers.append(i.name)\n",
        "              print(f\"{i.name} boarded the bus.\")\n",
        "            else:\n",
        "              print(\"You got on wrong bus!\")\n",
        "          else:\n",
        "            print(\"You don't have bus pass!\")\n",
        "        else:\n",
        "          print(\"Bus is full!\")\n",
        "  def show_details(self):\n",
        "    print(f\"Bus Route: {self.route}\")\n",
        "    print(f\"Passengers Count: {len(self.passengers)} (Max: {self.cap})\")\n",
        "    print(f\"Passengers On Board: {self.passengers}\")\n",
        "# =====================================================================\n",
        "st1 = BracuStudent(\"Afif\", \"Mirpur\")\n",
        "print(\"1===========================\")\n",
        "st2 = BracuStudent(\"Shanto\", \"Motijheel\")\n",
        "st3 = BracuStudent(\"Taskin\", \"Mirpur\")\n",
        "st1.show_details()\n",
        "st2.show_details()\n",
        "print(\"2===========================\")\n",
        "st3.show_details()\n",
        "print(\"3===========================\")\n",
        "bus1 = BracuBus(\"Mirpur\")\n",
        "bus2 = BracuBus(\"Azimpur\", 5)\n",
        "bus1.show_details()\n",
        "bus2.show_details()\n",
        "print(\"4===========================\")\n",
        "st2.get_pass()\n",
        "st3.get_pass()\n",
        "print(\"5===========================\")\n",
        "st2.show_details()\n",
        "st3.show_details()\n",
        "print(\"6===========================\")\n",
        "bus1.board()\n",
        "print(\"7===========================\")\n",
        "bus1.board(st1, st2)\n",
        "print(\"8===========================\")\n",
        "st1.get_pass()\n",
        "st2.home = \"Mirpur\"\n",
        "st1.show_details()\n",
        "st2.show_details()\n",
        "print(\"9===========================\")\n",
        "bus1.board(st1, st2, st3)\n",
        "print(\"10===========================\")\n",
        "bus1.show_details()\n",
        "# ====================================================================="
      ],
      "metadata": {
        "id": "T2q1vV3ae-_W",
        "colab": {
          "base_uri": "https://localhost:8080/"
        },
        "outputId": "e8a617aa-2411-4aeb-f1d7-fbef45e44237"
      },
      "execution_count": null,
      "outputs": [
        {
          "output_type": "stream",
          "name": "stdout",
          "text": [
            "1===========================\n",
            "Student Name: Afif\n",
            "Lives in Mirpur\n",
            "Have Bus Pass? False\n",
            "Student Name: Shanto\n",
            "Lives in Motijheel\n",
            "Have Bus Pass? False\n",
            "2===========================\n",
            "Student Name: Taskin\n",
            "Lives in Mirpur\n",
            "Have Bus Pass? False\n",
            "3===========================\n",
            "Bus Route: Mirpur\n",
            "Passengers Count: 0 (Max: 2)\n",
            "Passengers On Board: []\n",
            "Bus Route: Azimpur\n",
            "Passengers Count: 0 (Max: 5)\n",
            "Passengers On Board: []\n",
            "4===========================\n",
            "5===========================\n",
            "Student Name: Shanto\n",
            "Lives in Motijheel\n",
            "Have Bus Pass? True\n",
            "Student Name: Taskin\n",
            "Lives in Mirpur\n",
            "Have Bus Pass? True\n",
            "6===========================\n",
            "No passenger!\n",
            "7===========================\n",
            "You don't have bus pass!\n",
            "You got on wrong bus!\n",
            "8===========================\n",
            "Student Name: Afif\n",
            "Lives in Mirpur\n",
            "Have Bus Pass? True\n",
            "Student Name: Shanto\n",
            "Lives in Mirpur\n",
            "Have Bus Pass? True\n",
            "9===========================\n",
            "Afif boarded the bus.\n",
            "Shanto boarded the bus.\n",
            "Bus is full!\n",
            "10===========================\n",
            "Bus Route: Mirpur\n",
            "Passengers Count: 2 (Max: 2)\n",
            "Passengers On Board: ['Afif', 'Shanto']\n"
          ]
        }
      ]
    },
    {
      "cell_type": "markdown",
      "source": [
        "# **Task-8**"
      ],
      "metadata": {
        "id": "U9WG3iiFUF3-"
      }
    },
    {
      "cell_type": "code",
      "source": [
        "class Library:\n",
        "  def __init__(self, place, dic):\n",
        "    self.place = place\n",
        "    self.book_dic = dic\n",
        "    self.borrowers = {}\n",
        "  def details(self):\n",
        "    print(f\"{self.place} Library details\")\n",
        "    print(f\"Borrower detals: \\n{self.borrowers}\")\n",
        "    print(f\"Books availability: \\n{self.book_dic}\")\n",
        "class Reader:\n",
        "  def __init__(self, name):\n",
        "    self.name = name\n",
        "    self.bor_dic = {}\n",
        "    self.bcount = 0\n",
        "  def borrow(self, lib, *genres):\n",
        "    for i in genres:\n",
        "      if self.bcount < 5:\n",
        "        if lib.book_dic[i] > 0:\n",
        "          self.bcount += 1\n",
        "          lib.book_dic[i] -= 1\n",
        "          if i not in self.bor_dic:\n",
        "            self.bor_dic[i] = 1\n",
        "          else:\n",
        "            self.bor_dic[i] += 1\n",
        "          print(f\"{i} book is borrowed successfully.\")\n",
        "        else:\n",
        "          print(f\"{i} books are not available at the moment.\")\n",
        "      else:\n",
        "        print(\"You cannot borrow more than 5 books.\")\n",
        "    lib.borrowers[self.name] = self.bcount\n",
        "  def readerInfo(self, *genre):\n",
        "    if len(genre) > 0:\n",
        "      for i in genre:\n",
        "        print(f\"{self.name}, you have {self.bor_dic[i]} {i} book(s) with you.\")\n",
        "    else:\n",
        "      print(f\"{self.name}, you have {self.bcount} book(s) with you.\")\n",
        "      for j, k in self.bor_dic.items():\n",
        "        print(f\"Books on {j}: {k}\")\n",
        "# ==================================================================================\n",
        "L1=Library('Dhaka',{'Arts':15,'Fiction':135,'Politics':2,'Science':11,'Poetry':15})\n",
        "L1.details()\n",
        "print(\"1----------------------\")\n",
        "r1=Reader('Aladdin')\n",
        "r1.borrow(L1,'Arts','Fiction','Fiction','Politics')\n",
        "print(\"2----------------------\")\n",
        "r1.borrow(L1,'Politics','Fiction')\n",
        "print(\"3----------------------\")\n",
        "r1.readerInfo()\n",
        "print(\"4----------------------\")\n",
        "r1.readerInfo('Fiction')\n",
        "print(\"5----------------------\")\n",
        "L1.details()\n",
        "print(\"6----------------------\")\n",
        "r2=Reader('Jasmine')\n",
        "r2.borrow(L1,'Politics','Poetry')\n",
        "print(\"7----------------------\")\n",
        "r2.readerInfo()\n",
        "print(\"8----------------------\")\n",
        "L1.details()\n",
        "# ==================================================================================\n"
      ],
      "metadata": {
        "colab": {
          "base_uri": "https://localhost:8080/"
        },
        "id": "REbQ8YvQuLaU",
        "outputId": "b6dacc72-6277-48f7-a0e4-ce21314dcc4a"
      },
      "execution_count": null,
      "outputs": [
        {
          "output_type": "stream",
          "name": "stdout",
          "text": [
            "Dhaka Library details\n",
            "Borrower detals: \n",
            "{}\n",
            "Books availability: \n",
            "{'Arts': 15, 'Fiction': 135, 'Politics': 2, 'Science': 11, 'Poetry': 15}\n",
            "1----------------------\n",
            "Arts book is borrowed successfully.\n",
            "Fiction book is borrowed successfully.\n",
            "Fiction book is borrowed successfully.\n",
            "Politics book is borrowed successfully.\n",
            "2----------------------\n",
            "Politics book is borrowed successfully.\n",
            "You cannot borrow more than 5 books.\n",
            "3----------------------\n",
            "Aladdin, you have 5 book(s) with you.\n",
            "Books on Arts: 1\n",
            "Books on Fiction: 2\n",
            "Books on Politics: 2\n",
            "4----------------------\n",
            "Aladdin, you have 2 Fiction book(s) with you.\n",
            "5----------------------\n",
            "Dhaka Library details\n",
            "Borrower detals: \n",
            "{'Aladdin': 5}\n",
            "Books availability: \n",
            "{'Arts': 14, 'Fiction': 133, 'Politics': 0, 'Science': 11, 'Poetry': 15}\n",
            "6----------------------\n",
            "Politics books are not available at the moment.\n",
            "Poetry book is borrowed successfully.\n",
            "7----------------------\n",
            "Jasmine, you have 1 book(s) with you.\n",
            "Books on Poetry: 1\n",
            "8----------------------\n",
            "Dhaka Library details\n",
            "Borrower detals: \n",
            "{'Aladdin': 5, 'Jasmine': 1}\n",
            "Books availability: \n",
            "{'Arts': 14, 'Fiction': 133, 'Politics': 0, 'Science': 11, 'Poetry': 14}\n"
          ]
        }
      ]
    }
  ]
}